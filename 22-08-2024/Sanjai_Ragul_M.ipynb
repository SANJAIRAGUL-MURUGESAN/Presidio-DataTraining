{
  "nbformat": 4,
  "nbformat_minor": 0,
  "metadata": {
    "colab": {
      "provenance": []
    },
    "kernelspec": {
      "name": "python3",
      "display_name": "Python 3"
    },
    "language_info": {
      "name": "python"
    }
  },
  "cells": [
    {
      "cell_type": "code",
      "execution_count": 1,
      "metadata": {
        "colab": {
          "base_uri": "https://localhost:8080/"
        },
        "id": "K1FfTl36cIKu",
        "outputId": "67715352-1831-4e30-eb6c-c7d6ae1f0570"
      },
      "outputs": [
        {
          "output_type": "stream",
          "name": "stdout",
          "text": [
            "Collecting pyspark\n",
            "  Downloading pyspark-3.5.2.tar.gz (317.3 MB)\n",
            "\u001b[2K     \u001b[90m━━━━━━━━━━━━━━━━━━━━━━━━━━━━━━━━━━━━━━━━\u001b[0m \u001b[32m317.3/317.3 MB\u001b[0m \u001b[31m4.7 MB/s\u001b[0m eta \u001b[36m0:00:00\u001b[0m\n",
            "\u001b[?25h  Preparing metadata (setup.py) ... \u001b[?25l\u001b[?25hdone\n",
            "Requirement already satisfied: py4j==0.10.9.7 in /usr/local/lib/python3.10/dist-packages (from pyspark) (0.10.9.7)\n",
            "Building wheels for collected packages: pyspark\n",
            "  Building wheel for pyspark (setup.py) ... \u001b[?25l\u001b[?25hdone\n",
            "  Created wheel for pyspark: filename=pyspark-3.5.2-py2.py3-none-any.whl size=317812365 sha256=8f52dfdbb742df95b6c3ec2e5baac3c07a505ad6ece060daa0a9674736cc4d0c\n",
            "  Stored in directory: /root/.cache/pip/wheels/34/34/bd/03944534c44b677cd5859f248090daa9fb27b3c8f8e5f49574\n",
            "Successfully built pyspark\n",
            "Installing collected packages: pyspark\n",
            "Successfully installed pyspark-3.5.2\n"
          ]
        }
      ],
      "source": [
        "pip install pyspark"
      ]
    },
    {
      "cell_type": "code",
      "source": [
        "from pyspark.sql import SparkSession\n",
        "import pyspark.sql.functions as F\n",
        "from pyspark.sql import types\n",
        "from pyspark.sql.window import Window"
      ],
      "metadata": {
        "id": "PK5NiePJ1IrR"
      },
      "execution_count": 2,
      "outputs": []
    },
    {
      "cell_type": "code",
      "source": [
        "spark = SparkSession.builder.appName(\"covid\").getOrCreate()\n",
        "filepath = \"/complete.csv\""
      ],
      "metadata": {
        "id": "Gv4BVt592p41"
      },
      "execution_count": 24,
      "outputs": []
    },
    {
      "cell_type": "code",
      "source": [
        "df_csv = spark.read.format(\"csv\") \\\n",
        "            .option(\"header\", True) \\\n",
        "            .option(\"multiLine\", True) \\\n",
        "            .option(\"ignoreLeadingWhiteSpace\",True) \\\n",
        "            .option(\"ignoreTrailingWhiteSpace\",True) \\\n",
        "            .option(\"escape\", \"\\\\\") \\\n",
        "            .option(\"quote\", \"\\\"\") \\\n",
        "            .load(filepath)"
      ],
      "metadata": {
        "id": "xzM58ZC13BNF"
      },
      "execution_count": 25,
      "outputs": []
    },
    {
      "cell_type": "code",
      "source": [
        "df_csv.printSchema()"
      ],
      "metadata": {
        "colab": {
          "base_uri": "https://localhost:8080/"
        },
        "id": "u0UQaqnB5T_r",
        "outputId": "bc73f84e-5829-4de2-ae8a-f68add40d92a"
      },
      "execution_count": 26,
      "outputs": [
        {
          "output_type": "stream",
          "name": "stdout",
          "text": [
            "root\n",
            " |-- Date: string (nullable = true)\n",
            " |-- Name of State / UT: string (nullable = true)\n",
            " |-- Latitude: string (nullable = true)\n",
            " |-- Longitude: string (nullable = true)\n",
            " |-- Total Confirmed cases: string (nullable = true)\n",
            " |-- Death: string (nullable = true)\n",
            " |-- Cured/Discharged/Migrated: string (nullable = true)\n",
            " |-- New cases: string (nullable = true)\n",
            " |-- New deaths: string (nullable = true)\n",
            " |-- New recovered: string (nullable = true)\n",
            "\n"
          ]
        }
      ]
    },
    {
      "cell_type": "code",
      "source": [
        "df_csv = df_csv.withColumn(\"total_case\", df_csv[\"Total Confirmed cases\"].cast(types.LongType()))\n",
        "df_csv = df_csv.withColumn(\"total_newly_recovered\", df_csv[\"New recovered\"].cast(types.LongType()))\n",
        "df_csv = df_csv.withColumn(\"state\", df_csv[\"Name of State / UT\"].cast(types.StringType()))\n",
        "df_csv = df_csv.withColumn(\"death_Case\", df_csv[\"Death\"].cast(types.LongType()))\n",
        "df_csv.printSchema()"
      ],
      "metadata": {
        "colab": {
          "base_uri": "https://localhost:8080/"
        },
        "id": "RvFYxD5G5diW",
        "outputId": "0a43b7cc-8641-4677-f773-c240b95faeeb"
      },
      "execution_count": 27,
      "outputs": [
        {
          "output_type": "stream",
          "name": "stdout",
          "text": [
            "root\n",
            " |-- Date: string (nullable = true)\n",
            " |-- Name of State / UT: string (nullable = true)\n",
            " |-- Latitude: string (nullable = true)\n",
            " |-- Longitude: string (nullable = true)\n",
            " |-- Total Confirmed cases: string (nullable = true)\n",
            " |-- Death: string (nullable = true)\n",
            " |-- Cured/Discharged/Migrated: string (nullable = true)\n",
            " |-- New cases: string (nullable = true)\n",
            " |-- New deaths: string (nullable = true)\n",
            " |-- New recovered: string (nullable = true)\n",
            " |-- total_case: long (nullable = true)\n",
            " |-- total_newly_recovered: long (nullable = true)\n",
            " |-- state: string (nullable = true)\n",
            " |-- death_Case: long (nullable = true)\n",
            "\n"
          ]
        }
      ]
    },
    {
      "cell_type": "code",
      "source": [
        "df_csv = spark.read.format(\"csv\") \\\n",
        "            .option(\"header\", True) \\\n",
        "            .option(\"multiLine\", True) \\\n",
        "            .option(\"ignoreLeadingWhiteSpace\",True) \\\n",
        "            .option(\"ignoreTrailingWhiteSpace\",True) \\\n",
        "            .option(\"escape\", \"\\\\\") \\\n",
        "            .option(\"quote\", \"\\\"\") \\\n",
        "            .load(filepath)"
      ],
      "metadata": {
        "id": "bf-JSuL760Kr"
      },
      "execution_count": 28,
      "outputs": []
    },
    {
      "cell_type": "code",
      "source": [
        "df_csv.printSchema()"
      ],
      "metadata": {
        "colab": {
          "base_uri": "https://localhost:8080/"
        },
        "id": "o2yHNxXo64pq",
        "outputId": "0f54042c-496d-4e41-8824-7cb835eec04b"
      },
      "execution_count": 29,
      "outputs": [
        {
          "output_type": "stream",
          "name": "stdout",
          "text": [
            "root\n",
            " |-- Date: string (nullable = true)\n",
            " |-- Name of State / UT: string (nullable = true)\n",
            " |-- Latitude: string (nullable = true)\n",
            " |-- Longitude: string (nullable = true)\n",
            " |-- Total Confirmed cases: string (nullable = true)\n",
            " |-- Death: string (nullable = true)\n",
            " |-- Cured/Discharged/Migrated: string (nullable = true)\n",
            " |-- New cases: string (nullable = true)\n",
            " |-- New deaths: string (nullable = true)\n",
            " |-- New recovered: string (nullable = true)\n",
            "\n"
          ]
        }
      ]
    },
    {
      "cell_type": "code",
      "source": [
        "df_csv = df_csv.withColumn(\"total_case\", df_csv[\"Total Confirmed cases\"].cast(types.LongType()))\n",
        "df_csv = df_csv.withColumn(\"total_newly_recovered\", df_csv[\"New recovered\"].cast(types.LongType()))\n",
        "df_csv = df_csv.withColumn(\"state\", df_csv[\"Name of State / UT\"].cast(types.StringType()))\n",
        "df_csv = df_csv.withColumn(\"death_Case\", df_csv[\"Death\"].cast(types.LongType()))\n",
        "df_csv.printSchema()"
      ],
      "metadata": {
        "colab": {
          "base_uri": "https://localhost:8080/"
        },
        "id": "Kwbybyhs7_XU",
        "outputId": "7fc6709e-b3d6-4ed6-a811-4aa0763a7969"
      },
      "execution_count": 33,
      "outputs": [
        {
          "output_type": "stream",
          "name": "stdout",
          "text": [
            "root\n",
            " |-- Date: string (nullable = true)\n",
            " |-- Name of State / UT: string (nullable = true)\n",
            " |-- Latitude: string (nullable = true)\n",
            " |-- Longitude: string (nullable = true)\n",
            " |-- Total Confirmed cases: string (nullable = true)\n",
            " |-- Death: string (nullable = true)\n",
            " |-- Cured/Discharged/Migrated: string (nullable = true)\n",
            " |-- New cases: string (nullable = true)\n",
            " |-- New deaths: string (nullable = true)\n",
            " |-- New recovered: string (nullable = true)\n",
            " |-- total_case: long (nullable = true)\n",
            " |-- total_newly_recovered: long (nullable = true)\n",
            " |-- state: string (nullable = true)\n",
            " |-- death_Case: long (nullable = true)\n",
            "\n"
          ]
        }
      ]
    },
    {
      "cell_type": "markdown",
      "source": [
        "Convert All state names to lowercase"
      ],
      "metadata": {
        "id": "xpLqPTr38MpS"
      }
    },
    {
      "cell_type": "code",
      "source": [
        "output_df_5 = df_csv.withColumn('lower', F.lower(F.col(\"state\")))"
      ],
      "metadata": {
        "id": "Yfjuuxs68BCj"
      },
      "execution_count": 35,
      "outputs": []
    },
    {
      "cell_type": "code",
      "source": [
        "output_df_5.select(\"lower\").distinct().show()"
      ],
      "metadata": {
        "colab": {
          "base_uri": "https://localhost:8080/"
        },
        "id": "bJyn_Fir8GUV",
        "outputId": "4c09a782-bbd4-4383-d4db-8c2772434533"
      },
      "execution_count": 37,
      "outputs": [
        {
          "output_type": "stream",
          "name": "stdout",
          "text": [
            "+--------------------+\n",
            "|               lower|\n",
            "+--------------------+\n",
            "|               delhi|\n",
            "|         maharashtra|\n",
            "|           meghalaya|\n",
            "|              odisha|\n",
            "|             haryana|\n",
            "|         west bengal|\n",
            "|                 goa|\n",
            "|              punjab|\n",
            "|   jammu and kashmir|\n",
            "|dadra and nagar h...|\n",
            "|           karnataka|\n",
            "|      andhra pradesh|\n",
            "|           telangana|\n",
            "|            nagaland|\n",
            "|               bihar|\n",
            "|      madhya pradesh|\n",
            "|           jharkhand|\n",
            "|               assam|\n",
            "|              kerala|\n",
            "|          tamil nadu|\n",
            "+--------------------+\n",
            "only showing top 20 rows\n",
            "\n"
          ]
        }
      ]
    },
    {
      "cell_type": "markdown",
      "source": [
        "The day had a greater number of covid cases"
      ],
      "metadata": {
        "id": "5gl75nlF8dEc"
      }
    },
    {
      "cell_type": "code",
      "source": [
        "output_df_1 = df_csv.groupBy(\"Date\").agg(F.sum(\"total_case\").alias(\"sumtotal\"))"
      ],
      "metadata": {
        "id": "djwSq5Na8j9I"
      },
      "execution_count": 39,
      "outputs": []
    },
    {
      "cell_type": "code",
      "source": [
        "window_spec = Window.orderBy(F.col(\"sumtotal\").desc())"
      ],
      "metadata": {
        "id": "QRGLgjXP84z0"
      },
      "execution_count": 40,
      "outputs": []
    },
    {
      "cell_type": "code",
      "source": [
        "output_df_1 = output_df_1.withColumn(\"recency\", F.row_number().over(window_spec)).filter(F.col('recency') == 1).drop('recency')"
      ],
      "metadata": {
        "id": "JfJaBgw689p1"
      },
      "execution_count": 41,
      "outputs": []
    },
    {
      "cell_type": "code",
      "source": [
        "output_df_1.show()"
      ],
      "metadata": {
        "colab": {
          "base_uri": "https://localhost:8080/"
        },
        "id": "QgZKwvzw9EIG",
        "outputId": "72259e98-cdb6-46ee-f6d6-0f667156a08f"
      },
      "execution_count": 42,
      "outputs": [
        {
          "output_type": "stream",
          "name": "stdout",
          "text": [
            "+----------+--------+\n",
            "|      Date|sumtotal|\n",
            "+----------+--------+\n",
            "|2020-08-06| 1964536|\n",
            "+----------+--------+\n",
            "\n"
          ]
        }
      ]
    },
    {
      "cell_type": "markdown",
      "source": [
        "The state has the second-largest number of covid cases"
      ],
      "metadata": {
        "id": "k0qAdJ6_9V1e"
      }
    },
    {
      "cell_type": "code",
      "source": [
        "output_df_2 = df_csv.groupBy(\"state\").agg(F.sum(\"total_case\").alias(\"sumtotal\"))"
      ],
      "metadata": {
        "id": "jpjWalun9fiv"
      },
      "execution_count": 43,
      "outputs": []
    },
    {
      "cell_type": "code",
      "source": [
        "window_spec = Window.orderBy(F.col(\"sumtotal\").desc())"
      ],
      "metadata": {
        "id": "tX0hNUtK9trR"
      },
      "execution_count": 44,
      "outputs": []
    },
    {
      "cell_type": "code",
      "source": [
        "output_df_2 = output_df_2.withColumn(\"recency\", F.row_number().over(window_spec)).filter(F.col('recency') == 2).drop('recency')"
      ],
      "metadata": {
        "id": "XocQ-y_G9xsI"
      },
      "execution_count": 45,
      "outputs": []
    },
    {
      "cell_type": "code",
      "source": [
        "output_df_2.show()"
      ],
      "metadata": {
        "colab": {
          "base_uri": "https://localhost:8080/"
        },
        "id": "_16ET3wY903n",
        "outputId": "13b4979c-6670-43d1-ceed-38c4061d0731"
      },
      "execution_count": 46,
      "outputs": [
        {
          "output_type": "stream",
          "name": "stdout",
          "text": [
            "+----------+--------+\n",
            "|     state|sumtotal|\n",
            "+----------+--------+\n",
            "|Tamil Nadu| 7847083|\n",
            "+----------+--------+\n",
            "\n"
          ]
        }
      ]
    },
    {
      "cell_type": "markdown",
      "source": [
        "Which Union Territory has the least number of death"
      ],
      "metadata": {
        "id": "mOhozbVq93nC"
      }
    },
    {
      "cell_type": "code",
      "source": [
        "output_df_3 = df_csv.where(F.col('state').like(\"Union_Territory%\"))"
      ],
      "metadata": {
        "id": "2wsH4J3G-B6T"
      },
      "execution_count": 47,
      "outputs": []
    },
    {
      "cell_type": "code",
      "source": [
        "output_df_3 = output_df_3.groupBy(\"state\").agg(F.sum(\"death_Case\").alias(\"sumtotal\"))"
      ],
      "metadata": {
        "id": "8t0OSX_T-a-X"
      },
      "execution_count": 48,
      "outputs": []
    },
    {
      "cell_type": "code",
      "source": [
        "window_spec = Window.orderBy(F.col(\"sumtotal\"))"
      ],
      "metadata": {
        "id": "YqrzZWl_-pcJ"
      },
      "execution_count": 49,
      "outputs": []
    },
    {
      "cell_type": "code",
      "source": [
        "output_df_3 = output_df_3.withColumn(\"recency\", F.row_number().over(window_spec)).filter(F.col('recency') == 1).drop('recency')"
      ],
      "metadata": {
        "id": "q5rD1Ht3-5Hg"
      },
      "execution_count": 50,
      "outputs": []
    },
    {
      "cell_type": "code",
      "source": [
        "output_df_3.show(truncate=False)"
      ],
      "metadata": {
        "colab": {
          "base_uri": "https://localhost:8080/"
        },
        "id": "ojzVAVyQ-753",
        "outputId": "db92b746-a23f-44ca-ba4f-ab70ee06f7bc"
      },
      "execution_count": 52,
      "outputs": [
        {
          "output_type": "stream",
          "name": "stdout",
          "text": [
            "+------------------------------------+--------+\n",
            "|state                               |sumtotal|\n",
            "+------------------------------------+--------+\n",
            "|Union Territory of Jammu and Kashmir|0       |\n",
            "+------------------------------------+--------+\n",
            "\n"
          ]
        }
      ]
    },
    {
      "cell_type": "markdown",
      "source": [
        "The state has the lowest Death to total confirmed cases ratio"
      ],
      "metadata": {
        "id": "hMK7j_1s_ajZ"
      }
    },
    {
      "cell_type": "code",
      "source": [
        "output_df_4 = df_csv.withColumn(\"ratio\", F.col(\"death_Case\")/F.col(\"total_case\"))"
      ],
      "metadata": {
        "id": "WB6v6rAdAgAw"
      },
      "execution_count": 54,
      "outputs": []
    },
    {
      "cell_type": "code",
      "source": [
        "output_df_4 = output_df_4.groupBy(\"state\").agg(F.avg(\"ratio\").alias(\"ratio\"))"
      ],
      "metadata": {
        "id": "MBeDPZRbAnNf"
      },
      "execution_count": 55,
      "outputs": []
    },
    {
      "cell_type": "code",
      "source": [
        "window_spec = Window.orderBy(F.col(\"ratio\"))"
      ],
      "metadata": {
        "id": "DR3dTXvMAsLN"
      },
      "execution_count": 56,
      "outputs": []
    },
    {
      "cell_type": "code",
      "source": [
        "output_df_4 = output_df_4.withColumn(\"recency\", F.row_number().over(window_spec)).filter(F.col('recency') == 1).drop('recency')"
      ],
      "metadata": {
        "id": "SB5qJUEQA1x9"
      },
      "execution_count": 57,
      "outputs": []
    },
    {
      "cell_type": "code",
      "source": [
        "output_df_4.show(truncate=False)"
      ],
      "metadata": {
        "colab": {
          "base_uri": "https://localhost:8080/"
        },
        "id": "kpk5nUFxA9BO",
        "outputId": "21bd0db0-2218-4989-f2dc-60f7d742b966"
      },
      "execution_count": 58,
      "outputs": [
        {
          "output_type": "stream",
          "name": "stdout",
          "text": [
            "+-------+-----+\n",
            "|state  |ratio|\n",
            "+-------+-----+\n",
            "|Mizoram|0.0  |\n",
            "+-------+-----+\n",
            "\n"
          ]
        }
      ]
    },
    {
      "cell_type": "markdown",
      "source": [
        "Find which month the newer recovered cases"
      ],
      "metadata": {
        "id": "eT-ffnC6BAzb"
      }
    },
    {
      "cell_type": "code",
      "source": [
        "import calendar\n",
        "from datetime import datetime\n",
        "\n",
        "def get_month_name(month_number):\n",
        "    return calendar.month_name[int(month_number)]\n",
        "\n",
        "def get_month(date):\n",
        "    print(date)\n",
        "    date = datetime.strptime(date, \"%Y-%m-%d\")\n",
        "    return date.month\n",
        "\n",
        "get_month_udf = F.udf(lambda a : get_month(a), types.StringType())\n",
        "get_month_name_udf = F.udf(lambda a : get_month_name(a), types.StringType())"
      ],
      "metadata": {
        "id": "5x64C82MBWWB"
      },
      "execution_count": 59,
      "outputs": []
    },
    {
      "cell_type": "code",
      "source": [
        "output_df_6 = df_csv.withColumn(\"month\", get_month_udf(F.col(\"date\")))"
      ],
      "metadata": {
        "id": "Dl6DIbeoBd81"
      },
      "execution_count": 60,
      "outputs": []
    },
    {
      "cell_type": "code",
      "source": [
        "output_df_6 = output_df_6.groupBy(\"month\").agg(F.sum(\"total_newly_recovered\").alias(\"sumtotal\"))"
      ],
      "metadata": {
        "id": "Ykh6nOxiBh8d"
      },
      "execution_count": 61,
      "outputs": []
    },
    {
      "cell_type": "code",
      "source": [
        "window_spec = Window.orderBy(F.col(\"sumtotal\").desc())"
      ],
      "metadata": {
        "id": "Ls6Sg9NXBwaD"
      },
      "execution_count": 62,
      "outputs": []
    },
    {
      "cell_type": "code",
      "source": [
        "output_df_6 = output_df_6.withColumn(\"recency\", F.row_number().over(window_spec)).filter(F.col('recency') == 1).drop('recency')"
      ],
      "metadata": {
        "id": "aJYpv4qnB5NS"
      },
      "execution_count": 63,
      "outputs": []
    },
    {
      "cell_type": "code",
      "source": [
        "output_df_6 = output_df_6.withColumn(\"month\", get_month_name_udf(F.col(\"month\")))"
      ],
      "metadata": {
        "id": "iZx7v8zRCAsJ"
      },
      "execution_count": 64,
      "outputs": []
    },
    {
      "cell_type": "code",
      "source": [
        "output_df_6.show()"
      ],
      "metadata": {
        "colab": {
          "base_uri": "https://localhost:8080/"
        },
        "id": "SFBKTxcpCGO0",
        "outputId": "cb16285c-4fd8-4f9c-ec53-691219b3091f"
      },
      "execution_count": 65,
      "outputs": [
        {
          "output_type": "stream",
          "name": "stdout",
          "text": [
            "+-----+--------+\n",
            "|month|sumtotal|\n",
            "+-----+--------+\n",
            "| July|  722983|\n",
            "+-----+--------+\n",
            "\n"
          ]
        }
      ]
    }
  ]
}